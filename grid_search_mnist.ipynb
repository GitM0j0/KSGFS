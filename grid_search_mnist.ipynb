{
 "cells": [
  {
   "cell_type": "code",
   "execution_count": 12,
   "metadata": {},
   "outputs": [],
   "source": [
    "import torch\n",
    "import torchvision\n",
    "import os\n",
    "\n",
    "# from itertools import chain\n",
    "from torch import nn\n",
    "from torchvision import transforms\n",
    "import torch.nn.functional as F\n",
    "import numpy as np\n",
    "\n",
    "import matplotlib.pyplot as plt"
   ]
  },
  {
   "cell_type": "code",
   "execution_count": 3,
   "metadata": {},
   "outputs": [],
   "source": [
    "batch_size = 100\n",
    "dataset_size = 55000\n",
    "validation_size = 5000\n",
    "test_size = 10000"
   ]
  },
  {
   "cell_type": "code",
   "execution_count": null,
   "metadata": {},
   "outputs": [],
   "source": []
  },
  {
   "cell_type": "code",
   "execution_count": 4,
   "metadata": {},
   "outputs": [],
   "source": [
    "# Load MNIST training set\n",
    "train_data = torchvision.datasets.MNIST(root=os.environ.get(\"DATASETS_PATH\", \"~/datasets\"), train=True,\n",
    "                                         download=True, transform=transforms.ToTensor())\n",
    "\n",
    "# Split training set into training and validation set\n",
    "train_data, validation_data = torch.utils.data.random_split(train_data,[dataset_size, validation_size])\n",
    "# Load MNIST test set\n",
    "test_data = torchvision.datasets.MNIST(root=os.environ.get(\"DATASETS_PATH\", \"~/datasets\"), train=False,\n",
    "                                        download=True, transform=transforms.ToTensor())\n",
    "\n",
    "# Put datasets into data loaders\n",
    "train_loader = torch.utils.data.DataLoader(train_data, batch_size=batch_size, num_workers=0)\n",
    "val_loader = torch.utils.data.DataLoader(validation_data, batch_size=validation_size, num_workers=0)\n",
    "test_loader = torch.utils.data.DataLoader(test_data, batch_size=test_size)"
   ]
  },
  {
   "cell_type": "code",
   "execution_count": 5,
   "metadata": {},
   "outputs": [],
   "source": [
    "if torch.cuda.is_available():\n",
    "    device = torch.device(\"cuda\")\n",
    "else:\n",
    "    device = torch.device(\"cpu\")\n",
    "\n",
    "class Model(nn.Module):\n",
    "\n",
    "    def __init__(self):\n",
    "        super(Model, self).__init__()\n",
    "        self.model = nn.Sequential(\n",
    "                      nn.Linear(784, 400, bias=True),\n",
    "                      nn.SELU(),\n",
    "                      nn.Linear(400, 400, bias=True),\n",
    "                      nn.SELU(),\n",
    "                      nn.Linear(400, 400, bias=True),\n",
    "                      nn.SELU(),\n",
    "                      nn.Linear(400,10, bias=True)\n",
    "                    ).to(device)\n",
    "\n",
    "\n",
    "    def forward(self, x):\n",
    "        x = x.view(x.size(0), -1)\n",
    "        x = self.model(x)\n",
    "        return x"
   ]
  },
  {
   "cell_type": "code",
   "execution_count": 6,
   "metadata": {},
   "outputs": [],
   "source": [
    "class evaluation(object):\n",
    "    def __init__(self, test_data, criterion):\n",
    "        self.test_data = test_data\n",
    "        self.criterion = criterion\n",
    "        self.n = 0\n",
    "        self.avg_prediction = 0.\n",
    "\n",
    "    def acc(self, model):\n",
    "\n",
    "        with torch.autograd.no_grad():\n",
    "            self.n += 1\n",
    "            for x, y in iter(self.test_data):\n",
    "                x = x.view(x.size(0), -1)\n",
    "                predictions = model(x)\n",
    "                self.avg_prediction = self.avg_prediction * (self.n - 1.) / self.n + predictions / self.n\n",
    "                \n",
    "\n",
    "                loss = self.criterion(self.avg_prediction, y)\n",
    "                acc = 100 * (self.avg_prediction.argmax(1) == y).float().sum() / x.shape[0]\n",
    "\n",
    "        return loss, acc"
   ]
  },
  {
   "cell_type": "code",
   "execution_count": 10,
   "metadata": {},
   "outputs": [
    {
     "name": "stderr",
     "output_type": "stream",
     "text": [
      "/opt/anaconda/envs/Python3/lib/python3.6/site-packages/torch/nn/functional.py:52: UserWarning: size_average and reduce args will be deprecated, please use reduction='sum' instead.\n",
      "  warnings.warn(warning.format(ret))\n"
     ]
    },
    {
     "name": "stdout",
     "output_type": "stream",
     "text": [
      "Epoch 0 - loss: 43.8766 - acc: 0.9000\n",
      "Epoch 1 - loss: 24.6939 - acc: 0.9500\n",
      "Epoch 2 - loss: 18.3002 - acc: 0.9400\n",
      "Epoch 3 - loss: 16.2526 - acc: 0.9600\n",
      "Epoch 4 - loss: 14.9881 - acc: 0.9600\n",
      "Epoch 5 - loss: 14.2909 - acc: 0.9700\n",
      "Epoch 6 - loss: 14.3918 - acc: 0.9700\n",
      "Epoch 7 - loss: 12.9662 - acc: 0.9700\n",
      "Epoch 8 - loss: 14.5359 - acc: 0.9600\n",
      "Epoch 9 - loss: 13.3981 - acc: 0.9500\n",
      "Epoch 10 - loss: 14.0962 - acc: 0.9700\n",
      "Epoch 11 - loss: 14.8817 - acc: 0.9900\n",
      "Epoch 12 - loss: 15.2907 - acc: 0.9800\n",
      "Epoch 13 - loss: 13.9308 - acc: 0.9700\n",
      "Epoch 14 - loss: 14.9910 - acc: 0.9900\n",
      "Epoch 15 - loss: 16.5906 - acc: 0.9800\n",
      "Epoch 16 - loss: 14.6244 - acc: 0.9900\n",
      "Epoch 17 - loss: 14.3980 - acc: 0.9800\n",
      "Epoch 18 - loss: 7.3491 - acc: 1.0000\n",
      "Epoch 19 - loss: 2.6038 - acc: 0.9900\n",
      "Epoch 20 - loss: 2.2579 - acc: 1.0000\n",
      "Epoch 21 - loss: 2.7413 - acc: 0.9900\n",
      "Epoch 22 - loss: 2.7999 - acc: 1.0000\n",
      "Epoch 23 - loss: 2.5388 - acc: 1.0000\n",
      "Epoch 24 - loss: 3.3066 - acc: 1.0000\n",
      "Epoch 25 - loss: 3.2178 - acc: 1.0000\n",
      "Epoch 26 - loss: 3.7836 - acc: 1.0000\n",
      "Epoch 27 - loss: 4.6876 - acc: 0.9900\n",
      "Epoch 28 - loss: 3.8023 - acc: 1.0000\n",
      "Epoch 29 - loss: 3.9250 - acc: 1.0000\n",
      "Epoch 30 - loss: 4.2644 - acc: 1.0000\n",
      "Epoch 31 - loss: 5.3815 - acc: 1.0000\n",
      "Epoch 32 - loss: 5.1830 - acc: 0.9800\n",
      "Epoch 33 - loss: 5.2806 - acc: 1.0000\n",
      "Epoch 34 - loss: 4.9480 - acc: 1.0000\n",
      "Epoch 35 - loss: 5.1682 - acc: 1.0000\n",
      "Epoch 36 - loss: 3.9060 - acc: 1.0000\n",
      "Epoch 37 - loss: 1.4936 - acc: 1.0000\n",
      "Epoch 38 - loss: 0.9582 - acc: 1.0000\n",
      "Epoch 39 - loss: 0.8385 - acc: 1.0000\n",
      "Epoch 40 - loss: 1.0423 - acc: 1.0000\n",
      "Epoch 41 - loss: 1.2496 - acc: 1.0000\n",
      "Epoch 42 - loss: 1.2204 - acc: 1.0000\n",
      "Epoch 43 - loss: 0.9593 - acc: 0.9900\n",
      "Epoch 44 - loss: 1.1770 - acc: 1.0000\n",
      "Epoch 45 - loss: 1.3517 - acc: 1.0000\n",
      "Epoch 46 - loss: 1.2465 - acc: 0.9900\n",
      "Epoch 47 - loss: 1.3747 - acc: 1.0000\n",
      "Epoch 48 - loss: 1.5428 - acc: 1.0000\n",
      "Epoch 49 - loss: 1.9596 - acc: 1.0000\n"
     ]
    }
   ],
   "source": [
    "import sgld\n",
    "\n",
    "\n",
    "# Model parameter\n",
    "lambda_ = 1.\n",
    "lr = 3e-6\n",
    "\n",
    "\n",
    "network = Model()\n",
    "criterion = nn.CrossEntropyLoss(size_average=False)\n",
    "optim = sgld.optim.sgld(network, lr, lambda_, batch_size, dataset_size)\n",
    "evaluate = evaluation(test_loader, criterion)\n",
    "\n",
    "t = 1\n",
    "n = 0\n",
    "\n",
    "losses_sgld = []\n",
    "acc_sgld = []\n",
    "\n",
    "for epoch in range(50):\n",
    "    running_loss = 0\n",
    "    for x, y in iter(train_loader):\n",
    "        x = x.view(x.size(0), -1)\n",
    "\n",
    "        network.zero_grad()\n",
    "        output = network(x)\n",
    "        loss = criterion(output, y)\n",
    "        loss.backward()\n",
    "        optim.step()\n",
    "\n",
    "        running_loss += loss * batch_size / dataset_size\n",
    "        prediction = output.data.max(1)[1]\n",
    "        accuracy = torch.sum(prediction.eq(y)).float()/batch_size\n",
    "\n",
    "    \n",
    "        if (t >= 300) & (t % 100 == 0):\n",
    "            loss, acc = evaluate.acc(network)\n",
    "\n",
    "\n",
    "        t += 1.\n",
    "        \n",
    "    losses_sgld.append(loss)\n",
    "    acc_sgld.append(acc)\n",
    "\n",
    "    print(\"Epoch {:d} - loss: {:.4f} - acc: {:.4f}\".format(epoch, running_loss, accuracy))\n",
    "    \n",
    "error_sgld = [100-x for x in acc_sgld]"
   ]
  },
  {
   "cell_type": "code",
   "execution_count": 34,
   "metadata": {},
   "outputs": [
    {
     "data": {
      "text/plain": [
       "(1.2, 2.4)"
      ]
     },
     "execution_count": 34,
     "metadata": {},
     "output_type": "execute_result"
    },
    {
     "data": {
      "image/png": "[encoded data removed]",
      "text/plain": [
       "<Figure size 864x648 with 1 Axes>"
      ]
     },
     "metadata": {},
     "output_type": "display_data"
    }
   ],
   "source": [
    "plt.figure(figsize=(12,9))\n",
    "plt.plot(range(len(acc_sgld)),acc_sgld)\n",
    "plt.ylim(1.2,2.4)"
   ]
  },
  {
   "cell_type": "code",
   "execution_count": 32,
   "metadata": {},
   "outputs": [
    {
     "data": {
      "text/plain": [
       "[tensor(8.0200),\n",
       " tensor(5.2700),\n",
       " tensor(3.9000),\n",
       " tensor(3.3000),\n",
       " tensor(3.0300),\n",
       " tensor(2.7400),\n",
       " tensor(2.6200),\n",
       " tensor(2.4600),\n",
       " tensor(2.3500),\n",
       " tensor(2.2100),\n",
       " tensor(2.1600),\n",
       " tensor(2.1500),\n",
       " tensor(2.0500),\n",
       " tensor(2.0300),\n",
       " tensor(1.9800),\n",
       " tensor(1.8600),\n",
       " tensor(1.8400),\n",
       " tensor(1.7700),\n",
       " tensor(1.7800),\n",
       " tensor(1.7600),\n",
       " tensor(1.7100),\n",
       " tensor(1.6300),\n",
       " tensor(1.6200),\n",
       " tensor(1.6000),\n",
       " tensor(1.6000),\n",
       " tensor(1.6200),\n",
       " tensor(1.6200),\n",
       " tensor(1.6100),\n",
       " tensor(1.6200),\n",
       " tensor(1.6500),\n",
       " tensor(1.7000),\n",
       " tensor(1.6600),\n",
       " tensor(1.6500),\n",
       " tensor(1.6600),\n",
       " tensor(1.6800),\n",
       " tensor(1.6600),\n",
       " tensor(1.6200),\n",
       " tensor(1.6000),\n",
       " tensor(1.5900),\n",
       " tensor(1.5800),\n",
       " tensor(1.5700),\n",
       " tensor(1.5700),\n",
       " tensor(1.5600),\n",
       " tensor(1.5300),\n",
       " tensor(1.5200),\n",
       " tensor(1.5400),\n",
       " tensor(1.5600),\n",
       " tensor(1.5600),\n",
       " tensor(1.5900),\n",
       " tensor(1.6000)]"
      ]
     },
     "execution_count": 32,
     "metadata": {},
     "output_type": "execute_result"
    }
   ],
   "source": [
    "acc_sgld"
   ]
  },
  {
   "cell_type": "code",
   "execution_count": 35,
   "metadata": {},
   "outputs": [],
   "source": []
  },
  {
   "cell_type": "code",
   "execution_count": 36,
   "metadata": {},
   "outputs": [
    {
     "data": {
      "text/plain": [
       "[tensor(91.9800),\n",
       " tensor(94.7300),\n",
       " tensor(96.1000),\n",
       " tensor(96.7000),\n",
       " tensor(96.9700),\n",
       " tensor(97.2600),\n",
       " tensor(97.3800),\n",
       " tensor(97.5400),\n",
       " tensor(97.6500),\n",
       " tensor(97.7900),\n",
       " tensor(97.8400),\n",
       " tensor(97.8500),\n",
       " tensor(97.9500),\n",
       " tensor(97.9700),\n",
       " tensor(98.0200),\n",
       " tensor(98.1400),\n",
       " tensor(98.1600),\n",
       " tensor(98.2300),\n",
       " tensor(98.2200),\n",
       " tensor(98.2400),\n",
       " tensor(98.2900),\n",
       " tensor(98.3700),\n",
       " tensor(98.3800),\n",
       " tensor(98.4000),\n",
       " tensor(98.4000),\n",
       " tensor(98.3800),\n",
       " tensor(98.3800),\n",
       " tensor(98.3900),\n",
       " tensor(98.3800),\n",
       " tensor(98.3500),\n",
       " tensor(98.3000),\n",
       " tensor(98.3400),\n",
       " tensor(98.3500),\n",
       " tensor(98.3400),\n",
       " tensor(98.3200),\n",
       " tensor(98.3400),\n",
       " tensor(98.3800),\n",
       " tensor(98.4000),\n",
       " tensor(98.4100),\n",
       " tensor(98.4200),\n",
       " tensor(98.4300),\n",
       " tensor(98.4300),\n",
       " tensor(98.4400),\n",
       " tensor(98.4700),\n",
       " tensor(98.4800),\n",
       " tensor(98.4600),\n",
       " tensor(98.4400),\n",
       " tensor(98.4400),\n",
       " tensor(98.4100),\n",
       " tensor(98.4000)]"
      ]
     },
     "execution_count": 36,
     "metadata": {},
     "output_type": "execute_result"
    }
   ],
   "source": [
    "acc"
   ]
  }
 ],
 "metadata": {
  "kernelspec": {
   "display_name": "Python [default]",
   "language": "python",
   "name": "python3"
  },
  "varInspector": {
   "cols": {
    "lenName": 16,
    "lenType": 16,
    "lenVar": 40
   },
   "kernels_config": {
    "python": {
     "delete_cmd_postfix": "",
     "delete_cmd_prefix": "del ",
     "library": "var_list.py",
     "varRefreshCmd": "print(var_dic_list())"
    },
    "r": {
     "delete_cmd_postfix": ") ",
     "delete_cmd_prefix": "rm(",
     "library": "var_list.r",
     "varRefreshCmd": "cat(var_dic_list()) "
    }
   },
   "types_to_exclude": [
    "module",
    "function",
    "builtin_function_or_method",
    "instance",
    "_Feature"
   ],
   "window_display": false
  }
 },
 "nbformat": 4,
 "nbformat_minor": 2
}
